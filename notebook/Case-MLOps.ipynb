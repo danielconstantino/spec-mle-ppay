{
 "cells": [
  {
   "cell_type": "code",
   "execution_count": 1,
   "id": "71807eef-d650-4015-ad1d-e5c056aabe5d",
   "metadata": {
    "tags": []
   },
   "outputs": [],
   "source": [
    "from pyspark.sql.types import StructType, StructField, StringType, IntegerType, DoubleType, TimestampType\n",
    "from pyspark.sql import SparkSession\n",
    "\n",
    "spark = SparkSession.builder.appName(\"FlightsApp\").getOrCreate()\n",
    "\n",
    "# Utilizando StructType para carregar o CSV garantindo tipagem correta e estrutura definida.\n",
    "\n",
    "schema = StructType([\n",
    "    StructField(\"id\", IntegerType(), True),\n",
    "    StructField(\"year\", IntegerType(), True),\n",
    "    StructField(\"month\", IntegerType(), True),\n",
    "    StructField(\"day\", IntegerType(), True),\n",
    "    StructField(\"dep_time\", DoubleType(), True),\n",
    "    StructField(\"sched_dep_time\", IntegerType(), True),\n",
    "    StructField(\"dep_delay\", DoubleType(), True),\n",
    "    StructField(\"arr_time\", DoubleType(), True),\n",
    "    StructField(\"sched_arr_time\", IntegerType(), True),\n",
    "    StructField(\"arr_delay\", DoubleType(), True),\n",
    "    StructField(\"carrier\", StringType(), True),\n",
    "    StructField(\"flight\", IntegerType(), True),\n",
    "    StructField(\"tailnum\", StringType(), True),\n",
    "    StructField(\"origin\", StringType(), True),\n",
    "    StructField(\"dest\", StringType(), True),\n",
    "    StructField(\"air_time\", DoubleType(), True),\n",
    "    StructField(\"distance\", IntegerType(), True),\n",
    "    StructField(\"hour\", IntegerType(), True),\n",
    "    StructField(\"minute\", IntegerType(), True),\n",
    "    StructField(\"time_hour\", TimestampType(), True),\n",
    "    StructField(\"name\", StringType(), True),\n",
    "])\n",
    "\n",
    "# Lendo o CSV com o schema definido\n",
    "\n",
    "flights_database = spark.read.format(\"csv\") \\\n",
    "    .option(\"header\", \"true\") \\\n",
    "    .schema(schema) \\\n",
    "    .load(\"../data/airports-database.csv\")"
   ]
  },
  {
   "cell_type": "markdown",
   "id": "c5c1a06d-089e-48bf-b1a1-f04e8660ed3f",
   "metadata": {
    "tags": []
   },
   "source": [
    "## Primeira Seção - Exploratory Data Analysis\n",
    "\n",
    "### Nessa primeira seção, responderei com base no CSV já carregado em dataframe na etapa anterior as 17 perguntas do teste."
   ]
  },
  {
   "cell_type": "code",
   "execution_count": 2,
   "id": "ed532609-7fba-4ad9-9c9b-9a6e4e3afb9a",
   "metadata": {
    "tags": []
   },
   "outputs": [
    {
     "name": "stdout",
     "output_type": "stream",
     "text": [
      "Colunas disponíveis no DataFrame:\n",
      "root\n",
      " |-- id: integer (nullable = true)\n",
      " |-- year: integer (nullable = true)\n",
      " |-- month: integer (nullable = true)\n",
      " |-- day: integer (nullable = true)\n",
      " |-- dep_time: double (nullable = true)\n",
      " |-- sched_dep_time: integer (nullable = true)\n",
      " |-- dep_delay: double (nullable = true)\n",
      " |-- arr_time: double (nullable = true)\n",
      " |-- sched_arr_time: integer (nullable = true)\n",
      " |-- arr_delay: double (nullable = true)\n",
      " |-- carrier: string (nullable = true)\n",
      " |-- flight: integer (nullable = true)\n",
      " |-- tailnum: string (nullable = true)\n",
      " |-- origin: string (nullable = true)\n",
      " |-- dest: string (nullable = true)\n",
      " |-- air_time: double (nullable = true)\n",
      " |-- distance: integer (nullable = true)\n",
      " |-- hour: integer (nullable = true)\n",
      " |-- minute: integer (nullable = true)\n",
      " |-- time_hour: timestamp (nullable = true)\n",
      " |-- name: string (nullable = true)\n",
      "\n"
     ]
    }
   ],
   "source": [
    "#Fazendo os imports necessários\n",
    "\n",
    "from pyspark.sql.functions import col, count, avg, desc, weekofyear, dayofweek, dayofmonth, month, year, stddev, when, sum, round, last_day, to_date, concat, lit\n",
    "from pyspark.sql.window import Window\n",
    "import pyspark.sql.functions as F\n",
    "\n",
    "# Verificar se o DataFrame existe e mostrar suas colunas\n",
    "if 'flights_database' in locals():\n",
    "    print(\"Colunas disponíveis no DataFrame:\")\n",
    "    flights_database.printSchema()\n",
    "else:\n",
    "    print(\"O DataFrame 'flights_database' não está definido. Por favor, carregue-o antes de executar este código.\")"
   ]
  },
  {
   "cell_type": "markdown",
   "id": "261c9cf3-0c69-4965-ad9d-78c8278b9e1e",
   "metadata": {
    "tags": []
   },
   "source": [
    "#### 1. Qual é o número total de voos no conjunto de dados?"
   ]
  },
  {
   "cell_type": "code",
   "execution_count": 3,
   "id": "e44bf0a2-5116-4ff4-9ba7-d7acd111d576",
   "metadata": {
    "tags": []
   },
   "outputs": [
    {
     "name": "stdout",
     "output_type": "stream",
     "text": [
      "1. Número total de voos: 336776\n"
     ]
    }
   ],
   "source": [
    "total_flights = flights_database.count()\n",
    "\n",
    "print(f\"1. Número total de voos: {total_flights}\")"
   ]
  },
  {
   "cell_type": "markdown",
   "id": "b875d5bf-0eaa-42c7-aa89-cd8759dcf59c",
   "metadata": {},
   "source": [
    "#### 2. Quantos voos foram cancelados?"
   ]
  },
  {
   "cell_type": "code",
   "execution_count": 4,
   "id": "fc7137c8-0373-4c57-98fb-466bc4b4afb0",
   "metadata": {
    "tags": []
   },
   "outputs": [
    {
     "name": "stdout",
     "output_type": "stream",
     "text": [
      "2. Número de voos cancelados: 8255\n"
     ]
    }
   ],
   "source": [
    "cancelled_flights = flights_database.filter((col(\"dep_time\").isNull()) & (col(\"arr_time\").isNull())).count()\n",
    "\n",
    "print(f\"2. Número de voos cancelados: {cancelled_flights}\")"
   ]
  },
  {
   "cell_type": "markdown",
   "id": "02a714ec-f5b2-4dd6-8f11-3bdd95457985",
   "metadata": {},
   "source": [
    "#### 3. Qual é o atraso médio na partida dos voos (dep_delay)?"
   ]
  },
  {
   "cell_type": "code",
   "execution_count": 5,
   "id": "ae6ce88a-f6d3-4664-942d-38d5eaef7a07",
   "metadata": {},
   "outputs": [
    {
     "name": "stdout",
     "output_type": "stream",
     "text": [
      "3. Atraso médio na partida: 12.64 minutos\n"
     ]
    }
   ],
   "source": [
    "avg_dep_delay = flights_database.select(avg(\"dep_delay\")).first()[0]\n",
    "\n",
    "print(f\"3. Atraso médio na partida: {avg_dep_delay:.2f} minutos\")"
   ]
  },
  {
   "cell_type": "markdown",
   "id": "8135ec89-a202-4380-9371-9bc08d9b65e2",
   "metadata": {},
   "source": [
    "#### 4. Quais são os 5 aeroportos com maior número de pousos?"
   ]
  },
  {
   "cell_type": "code",
   "execution_count": 6,
   "id": "0b8272d8-8e8f-4804-9ce0-a38046b17a83",
   "metadata": {
    "tags": []
   },
   "outputs": [
    {
     "name": "stdout",
     "output_type": "stream",
     "text": [
      "4. Top 5 aeroportos com maior número de pousos:\n",
      "+----+--------+\n",
      "|dest|landings|\n",
      "+----+--------+\n",
      "| ORD|   17283|\n",
      "| ATL|   17215|\n",
      "| LAX|   16174|\n",
      "| BOS|   15508|\n",
      "| MCO|   14082|\n",
      "+----+--------+\n",
      "\n"
     ]
    }
   ],
   "source": [
    "top_5_airports = flights_database.groupBy(\"dest\").agg(count(\"*\").alias(\"landings\")) \\\n",
    "    .orderBy(desc(\"landings\")).limit(5)\n",
    "    \n",
    "print(\"4. Top 5 aeroportos com maior número de pousos:\")\n",
    "top_5_airports.show()"
   ]
  },
  {
   "cell_type": "markdown",
   "id": "65241749-6df5-4ccc-99c8-4e51e4527a27",
   "metadata": {},
   "source": [
    "#### 5. Qual é a rota mais frequente (par origin-dest)?"
   ]
  },
  {
   "cell_type": "code",
   "execution_count": 7,
   "id": "99504930-0a44-4bc9-835c-17260be05d4d",
   "metadata": {
    "tags": []
   },
   "outputs": [
    {
     "name": "stdout",
     "output_type": "stream",
     "text": [
      "5. Rota mais frequente:\n",
      "+------+----+---------+\n",
      "|origin|dest|frequency|\n",
      "+------+----+---------+\n",
      "|   JFK| LAX|    11262|\n",
      "+------+----+---------+\n",
      "\n"
     ]
    }
   ],
   "source": [
    "most_frequent_route = flights_database.groupBy(\"origin\", \"dest\").agg(count(\"*\").alias(\"frequency\")) \\\n",
    "    .orderBy(desc(\"frequency\")).limit(1)\n",
    "    \n",
    "print(\"5. Rota mais frequente:\")\n",
    "most_frequent_route.show()"
   ]
  },
  {
   "cell_type": "markdown",
   "id": "b93528bc-9425-4c91-b2d3-6b1dce22a6c3",
   "metadata": {},
   "source": [
    "#### 6. Quais são as 5 companhias aéreas com maior tempo médio de atraso na chegada?"
   ]
  },
  {
   "cell_type": "code",
   "execution_count": 8,
   "id": "5bb0e65d-ff2c-4e07-9f11-c9db9138fa90",
   "metadata": {},
   "outputs": [
    {
     "name": "stdout",
     "output_type": "stream",
     "text": [
      "6. Top 5 companhias aéreas com maior tempo médio de atraso na chegada:\n",
      "+-------+--------------------+------------------+\n",
      "|carrier|                name|     avg_arr_delay|\n",
      "+-------+--------------------+------------------+\n",
      "|     F9|Frontier Airlines...|21.920704845814978|\n",
      "|     FL|AirTran Airways C...|20.115905511811025|\n",
      "|     EV|ExpressJet Airlin...| 15.79643108710965|\n",
      "|     YV|  Mesa Airlines Inc.|15.556985294117647|\n",
      "|     OO|SkyWest Airlines ...|11.931034482758621|\n",
      "+-------+--------------------+------------------+\n",
      "\n"
     ]
    }
   ],
   "source": [
    "top_5_delayed_carriers = flights_database.groupBy(\"carrier\", \"name\") \\\n",
    "    .agg(avg(\"arr_delay\").alias(\"avg_arr_delay\")) \\\n",
    "    .orderBy(desc(\"avg_arr_delay\")).limit(5)\n",
    "    \n",
    "print(\"6. Top 5 companhias aéreas com maior tempo médio de atraso na chegada:\")\n",
    "top_5_delayed_carriers.show()"
   ]
  },
  {
   "cell_type": "markdown",
   "id": "b83d5325-7f56-43ad-9fb1-8db9b72cbd18",
   "metadata": {},
   "source": [
    "#### 7. Qual é o dia da semana com maior número de voos?"
   ]
  },
  {
   "cell_type": "code",
   "execution_count": 9,
   "id": "109161e7-35cd-4fc0-ab28-a2e5446629bd",
   "metadata": {},
   "outputs": [
    {
     "name": "stdout",
     "output_type": "stream",
     "text": [
      "7. Dia da semana com maior número de voos:\n",
      "+-----------+-------+\n",
      "|day_of_week|flights|\n",
      "+-----------+-------+\n",
      "|          2|  50690|\n",
      "+-----------+-------+\n",
      "\n"
     ]
    }
   ],
   "source": [
    "busiest_day = flights_database.withColumn(\"day_of_week\", dayofweek(\"time_hour\")) \\\n",
    "    .groupBy(\"day_of_week\") \\\n",
    "    .agg(count(\"*\").alias(\"flights\")) \\\n",
    "    .orderBy(desc(\"flights\")) \\\n",
    "    .limit(1)\n",
    "\n",
    "print(\"7. Dia da semana com maior número de voos:\")\n",
    "busiest_day.show()"
   ]
  },
  {
   "cell_type": "markdown",
   "id": "9f08ea39-1ee9-49de-be6f-44654bce2961",
   "metadata": {},
   "source": [
    "#### 8. Qual o percentual mensal dos voos tiveram atraso na partida superior a 30 minutos?"
   ]
  },
  {
   "cell_type": "code",
   "execution_count": 10,
   "id": "0055a2a4-2c9d-4557-844c-d9d1e8a0fff6",
   "metadata": {
    "tags": []
   },
   "outputs": [
    {
     "name": "stdout",
     "output_type": "stream",
     "text": [
      "8. Percentual mensal de voos com atraso na partida superior a 30 minutos:\n",
      "+-----+------------------+\n",
      "|month|  delay_percentage|\n",
      "+-----+------------------+\n",
      "|    1|12.405569545252556|\n",
      "|    2|12.752995871908942|\n",
      "|    3|14.944163140736629|\n",
      "|    4|15.993646311330744|\n",
      "|    5|15.335463258785943|\n",
      "|    6| 20.24218390397621|\n",
      "|    7| 20.97875955819881|\n",
      "|    8|14.450847342039758|\n",
      "|    9|  8.77275694494814|\n",
      "|   10| 9.335733324102598|\n",
      "|   11| 8.757517969781428|\n",
      "|   12|17.312955393637818|\n",
      "+-----+------------------+\n",
      "\n"
     ]
    }
   ],
   "source": [
    "monthly_delay_percentage = flights_database.withColumn(\"month\", month(\"time_hour\")) \\\n",
    "    .groupBy(\"month\") \\\n",
    "    .agg((sum(when(col(\"dep_delay\") > 30, 1).otherwise(0)) / count(\"*\") * 100).alias(\"delay_percentage\")) \\\n",
    "    .orderBy(\"month\")\n",
    "\n",
    "print(\"8. Percentual mensal de voos com atraso na partida superior a 30 minutos:\")\n",
    "monthly_delay_percentage.show()"
   ]
  },
  {
   "cell_type": "markdown",
   "id": "7de17886-998b-461c-b861-625eef181389",
   "metadata": {},
   "source": [
    "#### 9. Qual a origem mais comum para voos que pousaram em Seattle (SEA)?"
   ]
  },
  {
   "cell_type": "code",
   "execution_count": 11,
   "id": "c073580d-82bf-45da-a4d1-eb1c5892d629",
   "metadata": {
    "tags": []
   },
   "outputs": [
    {
     "name": "stdout",
     "output_type": "stream",
     "text": [
      "9. Origem mais comum para voos que pousaram em Seattle (SEA):\n",
      "+------+-------+\n",
      "|origin|flights|\n",
      "+------+-------+\n",
      "|   JFK|   2092|\n",
      "+------+-------+\n",
      "\n"
     ]
    }
   ],
   "source": [
    "most_common_origin_to_sea = flights_database.filter(col(\"dest\") == \"SEA\") \\\n",
    "    .groupBy(\"origin\").agg(count(\"*\").alias(\"flights\")) \\\n",
    "    .orderBy(desc(\"flights\")).limit(1)\n",
    "\n",
    "print(\"9. Origem mais comum para voos que pousaram em Seattle (SEA):\")\n",
    "most_common_origin_to_sea.show()"
   ]
  },
  {
   "cell_type": "markdown",
   "id": "4e037a7e-cb02-42c1-bab1-26d56d1adc19",
   "metadata": {},
   "source": [
    "#### 10. Qual é a média de atraso na partida dos voos (dep_delay) para cada dia da semana?"
   ]
  },
  {
   "cell_type": "code",
   "execution_count": 12,
   "id": "8fc85f00-2c4a-4010-88b7-e3bce117404b",
   "metadata": {
    "tags": []
   },
   "outputs": [
    {
     "name": "stdout",
     "output_type": "stream",
     "text": [
      "10. Média de atraso na partida para cada dia da semana:\n",
      "+-----------+------------------+\n",
      "|day_of_week|     avg_dep_delay|\n",
      "+-----------+------------------+\n",
      "|          1|11.589531801152422|\n",
      "|          2|14.778936729330908|\n",
      "|          3|10.631682565455652|\n",
      "|          4|11.803512219083876|\n",
      "|          5|16.148919990957108|\n",
      "|          6| 14.69605749486653|\n",
      "|          7| 7.650502333676133|\n",
      "+-----------+------------------+\n",
      "\n"
     ]
    }
   ],
   "source": [
    "avg_delay_by_day = flights_database.withColumn(\"day_of_week\", dayofweek(\"time_hour\")) \\\n",
    "    .groupBy(\"day_of_week\") \\\n",
    "    .agg(avg(\"dep_delay\").alias(\"avg_dep_delay\")) \\\n",
    "    .orderBy(col(\"day_of_week\").cast(\"string\"))\n",
    "\n",
    "print(\"10. Média de atraso na partida para cada dia da semana:\")\n",
    "avg_delay_by_day.show()"
   ]
  },
  {
   "cell_type": "markdown",
   "id": "2343fca1-0c3f-4a76-b260-e908f2cf383b",
   "metadata": {},
   "source": [
    "#### 11. Qual é a rota que teve o maior tempo de voo médio (air_time)?"
   ]
  },
  {
   "cell_type": "code",
   "execution_count": 13,
   "id": "dbbe884b-3d66-46b7-8c60-2b470db72ba6",
   "metadata": {
    "tags": []
   },
   "outputs": [
    {
     "name": "stdout",
     "output_type": "stream",
     "text": [
      "11. Rota com maior tempo de voo médio:\n",
      "+------+----+-----------------+\n",
      "|origin|dest|     avg_air_time|\n",
      "+------+----+-----------------+\n",
      "|   JFK| HNL|623.0877192982456|\n",
      "+------+----+-----------------+\n",
      "\n"
     ]
    }
   ],
   "source": [
    "route_longest_airtime = flights_database.groupBy(\"origin\", \"dest\") \\\n",
    "    .agg(avg(\"air_time\").alias(\"avg_air_time\")) \\\n",
    "    .orderBy(desc(\"avg_air_time\")).limit(1)\n",
    "\n",
    "print(\"11. Rota com maior tempo de voo médio:\")\n",
    "route_longest_airtime.show()"
   ]
  },
  {
   "cell_type": "markdown",
   "id": "87dc7e33-60e5-44f8-bf1c-a03c12fdebe1",
   "metadata": {},
   "source": [
    "#### 12. Para cada aeroporto de origem, qual é o aeroporto de destino mais comum?"
   ]
  },
  {
   "cell_type": "code",
   "execution_count": 14,
   "id": "bea50c8a-7e0f-41da-915f-550e8a1ba202",
   "metadata": {
    "tags": []
   },
   "outputs": [
    {
     "name": "stdout",
     "output_type": "stream",
     "text": [
      "12. Destino mais comum para cada aeroporto de origem:\n",
      "+------+----+\n",
      "|origin|dest|\n",
      "+------+----+\n",
      "|   EWR| ORD|\n",
      "|   JFK| LAX|\n",
      "|   LGA| ATL|\n",
      "+------+----+\n",
      "\n"
     ]
    }
   ],
   "source": [
    "most_common_dest_by_origin = flights_database.groupBy(\"origin\", \"dest\") \\\n",
    "    .agg(count(\"*\").alias(\"flights\")) \\\n",
    "    .withColumn(\"rank\", F.row_number().over(Window.partitionBy(\"origin\").orderBy(desc(\"flights\")))) \\\n",
    "    .filter(col(\"rank\") == 1).drop(\"rank\", \"flights\")\n",
    "    \n",
    "print(\"12. Destino mais comum para cada aeroporto de origem:\")\n",
    "most_common_dest_by_origin.show()"
   ]
  },
  {
   "cell_type": "markdown",
   "id": "241e6d13-a30d-4d7e-953a-54a315dc9db3",
   "metadata": {},
   "source": [
    "#### 13. Quais são as 3 rotas que tiveram a maior variação no tempo médio de voo (air_time)?"
   ]
  },
  {
   "cell_type": "code",
   "execution_count": 15,
   "id": "73e83caa-9d69-4fbe-8c07-786c1e764256",
   "metadata": {
    "tags": []
   },
   "outputs": [
    {
     "name": "stdout",
     "output_type": "stream",
     "text": [
      "13. Top 3 rotas com maior variação no tempo de voo:\n",
      "+------+----+------------------+\n",
      "|origin|dest|    airtime_stddev|\n",
      "+------+----+------------------+\n",
      "|   LGA| MYR| 25.32455988429677|\n",
      "|   EWR| HNL| 21.26613546847427|\n",
      "|   JFK| HNL|20.688824842787056|\n",
      "+------+----+------------------+\n",
      "\n"
     ]
    }
   ],
   "source": [
    "top_3_airtime_variation = flights_database.groupBy(\"origin\", \"dest\") \\\n",
    "    .agg(stddev(\"air_time\").alias(\"airtime_stddev\")) \\\n",
    "    .orderBy(desc(\"airtime_stddev\")).limit(3)\n",
    "    \n",
    "print(\"13. Top 3 rotas com maior variação no tempo de voo:\")\n",
    "top_3_airtime_variation.show()"
   ]
  },
  {
   "cell_type": "markdown",
   "id": "3ba22f81-b970-4ebb-bb6c-a461d10cb6c4",
   "metadata": {},
   "source": [
    "#### 14. Qual é a média de atraso na chegada para voos que tiveram atraso na partida superior a 1 hora?"
   ]
  },
  {
   "cell_type": "code",
   "execution_count": 16,
   "id": "15008ba8-4631-4aa4-a227-e46cb7582539",
   "metadata": {
    "tags": []
   },
   "outputs": [
    {
     "name": "stdout",
     "output_type": "stream",
     "text": [
      "14. Média de atraso na chegada para voos com atraso na partida > 1 hora: 119.05 minutos\n"
     ]
    }
   ],
   "source": [
    "avg_arr_delay_for_long_dep_delay = flights_database.filter(col(\"dep_delay\") > 60) \\\n",
    "    .select(avg(\"arr_delay\")).first()[0]\n",
    "    \n",
    "print(f\"14. Média de atraso na chegada para voos com atraso na partida > 1 hora: {avg_arr_delay_for_long_dep_delay:.2f} minutos\")"
   ]
  },
  {
   "cell_type": "markdown",
   "id": "5d977838-dd79-458f-ae24-c6b8a3cef634",
   "metadata": {},
   "source": [
    "#### 15. Qual é a média de voos diários para cada mês do ano?"
   ]
  },
  {
   "cell_type": "code",
   "execution_count": 17,
   "id": "9c5b7219-5938-40dc-97dd-5861eae597e2",
   "metadata": {
    "tags": []
   },
   "outputs": [
    {
     "name": "stdout",
     "output_type": "stream",
     "text": [
      "15. Média de voos diários para cada mês do ano:\n",
      "+-----+-----------------+\n",
      "|month|avg_daily_flights|\n",
      "+-----+-----------------+\n",
      "|    1|            871.1|\n",
      "|    2|           891.11|\n",
      "|    3|           930.13|\n",
      "|    4|           944.33|\n",
      "|    5|            928.9|\n",
      "|    6|           941.43|\n",
      "|    7|           949.19|\n",
      "|    8|           946.03|\n",
      "|    9|           919.13|\n",
      "|   10|            931.9|\n",
      "|   11|           908.93|\n",
      "|   12|           907.58|\n",
      "+-----+-----------------+\n",
      "\n"
     ]
    }
   ],
   "source": [
    "avg_daily_flights_by_month = flights_database \\\n",
    "    .withColumn(\"month\", month(\"time_hour\")) \\\n",
    "    .withColumn(\"year\", year(\"time_hour\")) \\\n",
    "    .groupBy(\"year\", \"month\") \\\n",
    "    .agg(count(\"*\").alias(\"total_flights\")) \\\n",
    "    .withColumn(\"days_in_month\", dayofmonth(last_day(to_date(concat(col(\"year\"), lit(\"-\"), col(\"month\"), lit(\"-01\")))))) \\\n",
    "    .withColumn(\"avg_daily_flights\", round(col(\"total_flights\") / col(\"days_in_month\"), 2)) \\\n",
    "    .groupBy(\"month\") \\\n",
    "    .agg(round(avg(\"avg_daily_flights\"), 2).alias(\"avg_daily_flights\")) \\\n",
    "    .orderBy(\"month\")\n",
    "\n",
    "print(\"15. Média de voos diários para cada mês do ano:\")\n",
    "avg_daily_flights_by_month.show()"
   ]
  },
  {
   "cell_type": "markdown",
   "id": "1e570840-ac86-4aab-b2d9-84f0606df210",
   "metadata": {},
   "source": [
    "#### 16. Quais são as 3 rotas mais comuns que tiveram atrasos na chegada superiores a 30 minutos?"
   ]
  },
  {
   "cell_type": "code",
   "execution_count": 18,
   "id": "c18f5401-b3ce-40ac-af34-9f52a7ed52ac",
   "metadata": {
    "tags": []
   },
   "outputs": [
    {
     "name": "stdout",
     "output_type": "stream",
     "text": [
      "16. Top 3 rotas mais comuns com atrasos na chegada > 30 minutos:\n",
      "+------+----+---------------+\n",
      "|origin|dest|delayed_flights|\n",
      "+------+----+---------------+\n",
      "|   LGA| ATL|           1563|\n",
      "|   JFK| LAX|           1286|\n",
      "|   LGA| ORD|           1188|\n",
      "+------+----+---------------+\n",
      "\n"
     ]
    }
   ],
   "source": [
    "top_3_delayed_routes = flights_database.filter(col(\"arr_delay\") > 30) \\\n",
    "    .groupBy(\"origin\", \"dest\") \\\n",
    "    .agg(count(\"*\").alias(\"delayed_flights\")) \\\n",
    "    .orderBy(desc(\"delayed_flights\")).limit(3)\n",
    "    \n",
    "print(\"16. Top 3 rotas mais comuns com atrasos na chegada > 30 minutos:\")\n",
    "top_3_delayed_routes.show()"
   ]
  },
  {
   "cell_type": "markdown",
   "id": "216b704f-ea3d-4956-8bf5-10da8345ddc8",
   "metadata": {},
   "source": [
    "#### 17. Para cada origem, qual o principal destino?"
   ]
  },
  {
   "cell_type": "code",
   "execution_count": 19,
   "id": "eb405f71-647f-4ab1-b775-dba1a9a6ff87",
   "metadata": {
    "tags": []
   },
   "outputs": [
    {
     "name": "stdout",
     "output_type": "stream",
     "text": [
      "17. Principal destino para cada origem:\n",
      "+------+----+\n",
      "|origin|dest|\n",
      "+------+----+\n",
      "|   EWR| ORD|\n",
      "|   JFK| LAX|\n",
      "|   LGA| ATL|\n",
      "+------+----+\n",
      "\n"
     ]
    }
   ],
   "source": [
    "main_dest_by_origin = flights_database.groupBy(\"origin\", \"dest\") \\\n",
    "    .agg(count(\"*\").alias(\"flights\")) \\\n",
    "    .withColumn(\"rank\", F.row_number().over(Window.partitionBy(\"origin\").orderBy(desc(\"flights\")))) \\\n",
    "    .filter(col(\"rank\") == 1).drop(\"rank\", \"flights\")\n",
    "    \n",
    "print(\"17. Principal destino para cada origem:\")\n",
    "main_dest_by_origin.show()"
   ]
  },
  {
   "cell_type": "markdown",
   "id": "3bea9a5f-2363-4aec-b56e-8056fc48edbb",
   "metadata": {},
   "source": [
    "## Segunda Parte - Data Enrichment"
   ]
  },
  {
   "cell_type": "code",
   "execution_count": 20,
   "id": "0533f2dc-8ef1-4bfc-a751-c7bff4130574",
   "metadata": {
    "tags": []
   },
   "outputs": [
    {
     "name": "stdout",
     "output_type": "stream",
     "text": [
      "+------+-------+------+------+----+---------+-------------------+-------------------+\n",
      "|    id|carrier|flight|origin|dest|arr_delay|          time_hour|  scheduled_arrival|\n",
      "+------+-------+------+------+----+---------+-------------------+-------------------+\n",
      "|  7072|     HA|    51|   JFK| HNL|   1272.0|2013-01-09 09:00:00|2013-01-09 15:30:00|\n",
      "|235778|     MQ|  3535|   JFK| CMH|   1127.0|2013-06-15 19:00:00|2013-06-15 21:20:00|\n",
      "|  8239|     MQ|  3695|   EWR| ORD|   1109.0|2013-01-10 16:00:00|2013-01-10 18:10:00|\n",
      "|327043|     AA|   177|   JFK| SFO|   1007.0|2013-09-20 18:00:00|2013-09-20 22:10:00|\n",
      "|270376|     MQ|  3075|   JFK| CVG|    989.0|2013-07-22 16:00:00|2013-07-22 18:15:00|\n",
      "+------+-------+------+------+----+---------+-------------------+-------------------+\n",
      "\n"
     ]
    }
   ],
   "source": [
    "from pyspark.sql.functions import col, desc, to_timestamp, lpad, concat, lit\n",
    "\n",
    "# Ordenar o DataFrame pelo arr_delay em ordem decrescente e selecionar os top 5\n",
    "top_5_arr_delay = flights_database.orderBy(col(\"arr_delay\").desc()).limit(5)\n",
    "\n",
    "# Selecionar apenas as colunas relevantes para exibição\n",
    "colunas_relevantes = [\"id\", \"carrier\", \"flight\", \"origin\", \"dest\", \"arr_delay\", \"time_hour\", \"year\", \"month\",  \"day\", \"sched_arr_time\"]\n",
    "top_5_arr_delay = top_5_arr_delay.select(colunas_relevantes)\n",
    "\n",
    "top_5_arr_delay = top_5_arr_delay.withColumn(\n",
    "    \"scheduled_arrival\",\n",
    "    to_timestamp(\n",
    "        concat(\n",
    "            col(\"year\"), lit(\"-\"),\n",
    "            lpad(col(\"month\"), 2, \"0\"), lit(\"-\"),\n",
    "            lpad(col(\"day\"), 2, \"0\"), lit(\" \"),\n",
    "            lpad(col(\"sched_arr_time\").cast(\"string\"), 4, \"0\")\n",
    "        ),\n",
    "        \"yyyy-MM-dd HHmm\"\n",
    "    )\n",
    ")\n",
    "\n",
    "# Mostrar o resultado\n",
    "filtro_colunas = [\"id\", \"carrier\", \"flight\", \"origin\", \"dest\", \"arr_delay\", \"time_hour\", \"scheduled_arrival\"]\n",
    "top_5_arr_delay.select(filtro_colunas).show()"
   ]
  },
  {
   "cell_type": "code",
   "execution_count": 21,
   "id": "29a91bc1-797a-4e27-9a03-9cf2c351edb7",
   "metadata": {
    "tags": []
   },
   "outputs": [
    {
     "name": "stdout",
     "output_type": "stream",
     "text": [
      "+-------+\n",
      "|airport|\n",
      "+-------+\n",
      "|    EWR|\n",
      "|    JFK|\n",
      "|    CMH|\n",
      "|    HNL|\n",
      "|    CVG|\n",
      "|    SFO|\n",
      "|    ORD|\n",
      "+-------+\n",
      "\n"
     ]
    }
   ],
   "source": [
    "from pyspark.sql.functions import col, collect_set\n",
    "\n",
    "# Coletar todos os valores únicos de 'origin' e 'dest'\n",
    "origins = top_5_arr_delay.select(\"origin\").distinct()\n",
    "destinations = top_5_arr_delay.select(\"dest\").distinct()\n",
    "\n",
    "# Fazer a união dos dois conjuntos, dado que temos que enriquecer aeroportos de origem e destino\n",
    "all_airports = origins.union(destinations).distinct()\n",
    "\n",
    "# Renomear a coluna resultante\n",
    "all_airports = all_airports.withColumnRenamed(\"origin\", \"airport\")\n",
    "\n",
    "# Mostrar o resultado\n",
    "all_airports.show()"
   ]
  },
  {
   "cell_type": "code",
   "execution_count": 22,
   "id": "a0c3a0fb-9ccc-4e74-a37f-1d40e4e75764",
   "metadata": {
    "tags": []
   },
   "outputs": [
    {
     "name": "stdout",
     "output_type": "stream",
     "text": [
      "Aeroportos com coordenadas:\n",
      "+------------+-----------------+-----------+\n",
      "|airport_code|         latitude|  longitude|\n",
      "+------------+-----------------+-----------+\n",
      "|         EWR|        40.692501| -74.168701|\n",
      "|         JFK|        40.639801|   -73.7789|\n",
      "|         CMH|        39.998001| -82.891899|\n",
      "|         HNL|         21.32062|-157.924228|\n",
      "|         CVG|        39.048801| -84.667801|\n",
      "|         SFO|37.61899948120117|   -122.375|\n",
      "|         ORD|          41.9786|   -87.9048|\n",
      "+------------+-----------------+-----------+\n",
      "\n"
     ]
    }
   ],
   "source": [
    "import requests\n",
    "from pyspark.sql.functions import udf, col\n",
    "from pyspark.sql.types import StructType, StructField, StringType, DoubleType\n",
    "\n",
    "# Definindo chave de API\n",
    "API_KEY = \"0d8b852c8213776a059d152847aca594c97cbbc6765192f78a8dbfbb85ef12ed766d6cdcba263917defdcf6e83254b4d\"\n",
    "\n",
    "# Notei que existiam aeroportos em que o ICAO code não inicia com \"K\", o que fazia com que a API retornasse \n",
    "# valores nulos na resposta. Portanto, fiz esse dicionário de mapeamento para nomes de aeroportos \"especiais\"\n",
    "\n",
    "special_icao_mapping = {\n",
    "    \"HNL\": \"PHNL\",\n",
    "    \"SJU\": \"TJSJ\",\n",
    "    \"BQN\": \"TJBQ\"\n",
    "}\n",
    "\n",
    "# Função para chamar a API e obter latitude e longitude\n",
    "def get_airport_coordinates(iata_code):\n",
    "    if iata_code in special_icao_mapping:\n",
    "        icao_code = special_icao_mapping[iata_code]\n",
    "    else:\n",
    "        icao_code = f\"K{iata_code}\"\n",
    "    \n",
    "    url = f\"https://airportdb.io/api/v1/airport/{icao_code}?apiToken={API_KEY}\"\n",
    "    try:\n",
    "        response = requests.get(url)\n",
    "        if response.status_code == 200:\n",
    "            data = response.json()\n",
    "            return (data.get('latitude_deg'), data.get('longitude_deg'))\n",
    "        else:\n",
    "            print(f\"Erro ao buscar dados para {iata_code}: {response.status_code}\")\n",
    "            return (None, None)\n",
    "    except Exception as e:\n",
    "        print(f\"Exceção ocorreu para {iata_code}: {str(e)}\")\n",
    "        return (None, None)\n",
    "\n",
    "# Definir o schema para o resultado da UDF\n",
    "coordinates_schema = StructType([\n",
    "    StructField(\"latitude\", DoubleType(), True),\n",
    "    StructField(\"longitude\", DoubleType(), True)\n",
    "])\n",
    "\n",
    "# Criar UDF (User Defined Function)\n",
    "get_coordinates_udf = udf(get_airport_coordinates, coordinates_schema)\n",
    "\n",
    "# Obter lista única de aeroportos\n",
    "unique_airports = top_5_arr_delay.select(\"origin\").union(top_5_arr_delay.select(\"dest\")) \\\n",
    "    .select(col(\"origin\").alias(\"airport_code\")) \\\n",
    "    .distinct()\n",
    "\n",
    "# Aplicar a UDF para obter coordenadas\n",
    "airports_with_coordinates = unique_airports.withColumn(\"coordinates\", get_coordinates_udf(col(\"airport_code\")))\n",
    "\n",
    "# Expandir a coluna de coordenadas\n",
    "airports_with_coordinates = airports_with_coordinates \\\n",
    "    .withColumn(\"latitude\", col(\"coordinates.latitude\")) \\\n",
    "    .withColumn(\"longitude\", col(\"coordinates.longitude\")) \\\n",
    "    .drop(\"coordinates\")\n",
    "\n",
    "# Mostrar os resultados\n",
    "print(\"Aeroportos com coordenadas:\")\n",
    "airports_with_coordinates.show()"
   ]
  },
  {
   "cell_type": "code",
   "execution_count": 23,
   "id": "68c8b826-d670-4039-b1fa-a5d1db4db814",
   "metadata": {
    "tags": []
   },
   "outputs": [
    {
     "name": "stdout",
     "output_type": "stream",
     "text": [
      "DataFrame de voos atrasados enriquecido com coordenadas:\n",
      "+------+-------+------+------+----+---------+-------------------+----+-----+---+--------------+-------------------+---------------+----------------+-----------------+--------------+\n",
      "|    id|carrier|flight|origin|dest|arr_delay|          time_hour|year|month|day|sched_arr_time|  scheduled_arrival|origin_latitude|origin_longitude|    dest_latitude|dest_longitude|\n",
      "+------+-------+------+------+----+---------+-------------------+----+-----+---+--------------+-------------------+---------------+----------------+-----------------+--------------+\n",
      "|  7072|     HA|    51|   JFK| HNL|   1272.0|2013-01-09 09:00:00|2013|    1|  9|          1530|2013-01-09 15:30:00|      40.639801|        -73.7789|         21.32062|   -157.924228|\n",
      "|235778|     MQ|  3535|   JFK| CMH|   1127.0|2013-06-15 19:00:00|2013|    6| 15|          2120|2013-06-15 21:20:00|      40.639801|        -73.7789|        39.998001|    -82.891899|\n",
      "|  8239|     MQ|  3695|   EWR| ORD|   1109.0|2013-01-10 16:00:00|2013|    1| 10|          1810|2013-01-10 18:10:00|      40.692501|      -74.168701|          41.9786|      -87.9048|\n",
      "|327043|     AA|   177|   JFK| SFO|   1007.0|2013-09-20 18:00:00|2013|    9| 20|          2210|2013-09-20 22:10:00|      40.639801|        -73.7789|37.61899948120117|      -122.375|\n",
      "|270376|     MQ|  3075|   JFK| CVG|    989.0|2013-07-22 16:00:00|2013|    7| 22|          1815|2013-07-22 18:15:00|      40.639801|        -73.7789|        39.048801|    -84.667801|\n",
      "+------+-------+------+------+----+---------+-------------------+----+-----+---+--------------+-------------------+---------------+----------------+-----------------+--------------+\n",
      "\n"
     ]
    }
   ],
   "source": [
    "# Juntar as coordenadas com o DataFrame original\n",
    "enriched_delayed_flights = top_5_arr_delay \\\n",
    "    .join(airports_with_coordinates, top_5_arr_delay.origin == airports_with_coordinates.airport_code, \"left\") \\\n",
    "    .withColumnRenamed(\"latitude\", \"origin_latitude\") \\\n",
    "    .withColumnRenamed(\"longitude\", \"origin_longitude\") \\\n",
    "    .drop(\"airport_code\")\n",
    "\n",
    "enriched_delayed_flights = enriched_delayed_flights \\\n",
    "    .join(airports_with_coordinates, top_5_arr_delay.dest == airports_with_coordinates.airport_code, \"left\") \\\n",
    "    .withColumnRenamed(\"latitude\", \"dest_latitude\") \\\n",
    "    .withColumnRenamed(\"longitude\", \"dest_longitude\") \\\n",
    "    .drop(\"airport_code\")\n",
    "\n",
    "# Mostrar o DataFrame de Voos enriquecido\n",
    "print(\"DataFrame de voos atrasados enriquecido com coordenadas:\")\n",
    "enriched_delayed_flights.show()"
   ]
  },
  {
   "cell_type": "code",
   "execution_count": 24,
   "id": "b2fad974-4742-42e8-a806-7b59db2c82ca",
   "metadata": {
    "tags": []
   },
   "outputs": [
    {
     "name": "stdout",
     "output_type": "stream",
     "text": [
      "+------+--------+-------------------+-----------------+-----------+----------+----------+--------+\n",
      "|    id|location|          time_hour|         latitude|  longitude|start_date|  end_date|    hour|\n",
      "+------+--------+-------------------+-----------------+-----------+----------+----------+--------+\n",
      "|  7072|     JFK|2013-01-09 09:00:00|        40.639801|   -73.7789|2013-01-09|2013-01-10|09:00:00|\n",
      "|  7072|     HNL|2013-01-09 15:30:00|         21.32062|-157.924228|2013-01-09|2013-01-10|15:00:00|\n",
      "|  8239|     ORD|2013-01-10 18:10:00|          41.9786|   -87.9048|2013-01-10|2013-01-11|18:00:00|\n",
      "|  8239|     EWR|2013-01-10 16:00:00|        40.692501| -74.168701|2013-01-10|2013-01-11|16:00:00|\n",
      "|235778|     JFK|2013-06-15 19:00:00|        40.639801|   -73.7789|2013-06-15|2013-06-16|19:00:00|\n",
      "|235778|     CMH|2013-06-15 21:20:00|        39.998001| -82.891899|2013-06-15|2013-06-16|21:00:00|\n",
      "|270376|     JFK|2013-07-22 16:00:00|        40.639801|   -73.7789|2013-07-22|2013-07-23|16:00:00|\n",
      "|270376|     CVG|2013-07-22 18:15:00|        39.048801| -84.667801|2013-07-22|2013-07-23|18:00:00|\n",
      "|327043|     JFK|2013-09-20 18:00:00|        40.639801|   -73.7789|2013-09-20|2013-09-21|18:00:00|\n",
      "|327043|     SFO|2013-09-20 22:10:00|37.61899948120117|   -122.375|2013-09-20|2013-09-21|22:00:00|\n",
      "+------+--------+-------------------+-----------------+-----------+----------+----------+--------+\n",
      "\n"
     ]
    }
   ],
   "source": [
    "from pyspark.sql.functions import col, hour, date_format, date_add\n",
    "\n",
    "# Selecione as colunas para o primeiro conjunto de dados\n",
    "prep_df1 = enriched_delayed_flights.select(\n",
    "    col(\"id\"),\n",
    "    col(\"origin\").alias(\"location\"),\n",
    "    col(\"time_hour\"),\n",
    "    col(\"origin_latitude\").alias(\"latitude\"),\n",
    "    col(\"origin_longitude\").alias(\"longitude\")\n",
    ")\n",
    "\n",
    "# Selecione as colunas para o segundo conjunto de dados\n",
    "prep_df2 = enriched_delayed_flights.select(\n",
    "    col(\"id\"),\n",
    "    col(\"dest\").alias(\"location\"),\n",
    "    col(\"scheduled_arrival\").alias(\"time_hour\"),\n",
    "    col(\"dest_latitude\").alias(\"latitude\"),\n",
    "    col(\"dest_longitude\").alias(\"longitude\")\n",
    ")\n",
    "\n",
    "# Combine os dois DataFrames usando union\n",
    "prep_df = prep_df1.union(prep_df2)\n",
    "\n",
    "# Adicione as novas colunas\n",
    "prep_df = prep_df.withColumn(\"start_date\", date_format(col(\"time_hour\"), \"yyyy-MM-dd\"))\n",
    "prep_df = prep_df.withColumn(\"end_date\", date_format(date_add(col(\"time_hour\"), 1), \"yyyy-MM-dd\"))\n",
    "prep_df = prep_df.withColumn(\"hour\", date_format(col(\"time_hour\"), \"HH:00:00\"))\n",
    "\n",
    "# Se você quiser ordenar o resultado\n",
    "prep_df = prep_df.orderBy(\"id\")\n",
    "\n",
    "prep_df.show()"
   ]
  },
  {
   "cell_type": "code",
   "execution_count": 25,
   "id": "c556ce5c-36bd-4b75-958b-2c7025facd4b",
   "metadata": {
    "tags": []
   },
   "outputs": [
    {
     "name": "stdout",
     "output_type": "stream",
     "text": [
      "+------+--------+-------------------+-----------------+-----------+----------+----------+--------+--------+\n",
      "|    id|location|          time_hour|         latitude|  longitude|start_date|  end_date|    hour|wind_spd|\n",
      "+------+--------+-------------------+-----------------+-----------+----------+----------+--------+--------+\n",
      "|  7072|     JFK|2013-01-09 09:00:00|        40.639801|   -73.7789|2013-01-09|2013-01-10|09:00:00|    0.52|\n",
      "|  7072|     HNL|2013-01-09 15:30:00|         21.32062|-157.924228|2013-01-09|2013-01-10|15:00:00|     9.8|\n",
      "|  8239|     EWR|2013-01-10 16:00:00|        40.692501| -74.168701|2013-01-10|2013-01-11|16:00:00|    4.34|\n",
      "|  8239|     ORD|2013-01-10 18:10:00|          41.9786|   -87.9048|2013-01-10|2013-01-11|18:00:00|    5.09|\n",
      "|235778|     JFK|2013-06-15 19:00:00|        40.639801|   -73.7789|2013-06-15|2013-06-16|19:00:00|    5.92|\n",
      "|235778|     CMH|2013-06-15 21:20:00|        39.998001| -82.891899|2013-06-15|2013-06-16|21:00:00|    3.22|\n",
      "|270376|     JFK|2013-07-22 16:00:00|        40.639801|   -73.7789|2013-07-22|2013-07-23|16:00:00|    4.59|\n",
      "|270376|     CVG|2013-07-22 18:15:00|        39.048801| -84.667801|2013-07-22|2013-07-23|18:00:00|    1.95|\n",
      "|327043|     JFK|2013-09-20 18:00:00|        40.639801|   -73.7789|2013-09-20|2013-09-21|18:00:00|    4.97|\n",
      "|327043|     SFO|2013-09-20 22:10:00|37.61899948120117|   -122.375|2013-09-20|2013-09-21|22:00:00|     5.7|\n",
      "+------+--------+-------------------+-----------------+-----------+----------+----------+--------+--------+\n",
      "\n"
     ]
    }
   ],
   "source": [
    "from pyspark.sql.functions import udf\n",
    "from pyspark.sql.types import DoubleType\n",
    "import requests\n",
    "\n",
    "# Definir a função que será aplicada a cada linha\n",
    "def get_wind_speed(lat, lon, start_date, end_date, hour):\n",
    "    api_key = \"6a5c1cc424b84585a923c9541b76db58\"\n",
    "    \n",
    "    url = f\"https://api.weatherbit.io/v2.0/history/subhourly?lat={lat}&lon={lon}&start_date={start_date}&end_date={end_date}&key={api_key}\"\n",
    "\n",
    "    print(f'{url}')\n",
    "    \n",
    "    response = requests.get(url)\n",
    "    if response.status_code == 200:\n",
    "        data = response.json()\n",
    "        for item in data['data']:\n",
    "            if item['timestamp_local'].split('T')[1] == hour:\n",
    "                return float(item['wind_spd'])\n",
    "    return None\n",
    "\n",
    "# Registrar a UDF\n",
    "wind_speed_udf = udf(get_wind_speed, DoubleType())\n",
    "\n",
    "# Aplicar a UDF ao DataFrame\n",
    "enriched_df_wind = prep_df.withColumn(\n",
    "    \"wind_spd\",\n",
    "    wind_speed_udf(prep_df.latitude, prep_df.longitude, prep_df.start_date, prep_df.end_date, prep_df.hour)\n",
    ")\n",
    "\n",
    "# Mostrar os resultados\n",
    "enriched_df_wind.show()"
   ]
  },
  {
   "cell_type": "code",
   "execution_count": 26,
   "id": "6e4c9d55-87a4-4f55-9d51-7e0f96240888",
   "metadata": {
    "tags": []
   },
   "outputs": [
    {
     "name": "stdout",
     "output_type": "stream",
     "text": [
      "+------+-------+------+------+----+---------+-------------------+----+-----+---+--------------+-------------------+---------------+----------------+-----------------+--------------+---------------+-------------+\n",
      "|    id|carrier|flight|origin|dest|arr_delay|          time_hour|year|month|day|sched_arr_time|  scheduled_arrival|origin_latitude|origin_longitude|    dest_latitude|dest_longitude|wind_spd_origin|wind_spd_dest|\n",
      "+------+-------+------+------+----+---------+-------------------+----+-----+---+--------------+-------------------+---------------+----------------+-----------------+--------------+---------------+-------------+\n",
      "|  7072|     HA|    51|   JFK| HNL|   1272.0|2013-01-09 09:00:00|2013|    1|  9|          1530|2013-01-09 15:30:00|      40.639801|        -73.7789|         21.32062|   -157.924228|           0.52|          9.8|\n",
      "|235778|     MQ|  3535|   JFK| CMH|   1127.0|2013-06-15 19:00:00|2013|    6| 15|          2120|2013-06-15 21:20:00|      40.639801|        -73.7789|        39.998001|    -82.891899|           5.92|         3.22|\n",
      "|  8239|     MQ|  3695|   EWR| ORD|   1109.0|2013-01-10 16:00:00|2013|    1| 10|          1810|2013-01-10 18:10:00|      40.692501|      -74.168701|          41.9786|      -87.9048|           4.34|         5.09|\n",
      "|327043|     AA|   177|   JFK| SFO|   1007.0|2013-09-20 18:00:00|2013|    9| 20|          2210|2013-09-20 22:10:00|      40.639801|        -73.7789|37.61899948120117|      -122.375|           4.97|          5.7|\n",
      "|270376|     MQ|  3075|   JFK| CVG|    989.0|2013-07-22 16:00:00|2013|    7| 22|          1815|2013-07-22 18:15:00|      40.639801|        -73.7789|        39.048801|    -84.667801|           4.59|         1.95|\n",
      "+------+-------+------+------+----+---------+-------------------+----+-----+---+--------------+-------------------+---------------+----------------+-----------------+--------------+---------------+-------------+\n",
      "\n"
     ]
    }
   ],
   "source": [
    "from pyspark.sql.functions import udf, col\n",
    "from pyspark.sql.types import FloatType\n",
    "\n",
    "# Criando um dicionário a partir de enriched_df_wind para busca rápida\n",
    "wind_dict = enriched_df_wind.rdd.map(lambda x: ((x['id'], x['location']), x['wind_spd'])).collectAsMap()\n",
    "\n",
    "# Função para buscar wind_spd_origin\n",
    "def get_wind_spd_origin(id, origin):\n",
    "    return wind_dict.get((id, origin))\n",
    "\n",
    "# Função para buscar wind_spd_dest\n",
    "def get_wind_spd_dest(id, dest):\n",
    "    return wind_dict.get((id, dest))\n",
    "\n",
    "# Registrar as funções como UDFs\n",
    "get_wind_spd_origin_udf = udf(get_wind_spd_origin, FloatType())\n",
    "get_wind_spd_dest_udf = udf(get_wind_spd_dest, FloatType())\n",
    "\n",
    "# Aplicar as UDFs ao DataFrame\n",
    "enriched_delayed_flights = enriched_delayed_flights.withColumn(\n",
    "    \"wind_spd_origin\", \n",
    "    get_wind_spd_origin_udf(col(\"id\"), col(\"origin\"))\n",
    ").withColumn(\n",
    "    \"wind_spd_dest\", \n",
    "    get_wind_spd_dest_udf(col(\"id\"), col(\"dest\"))\n",
    ")\n",
    "\n",
    "# Retornar o DataFrame enriquecido\n",
    "enriched_delayed_flights.show()"
   ]
  },
  {
   "cell_type": "markdown",
   "id": "ab8fc6b1-bf5b-49be-a241-d922ef5b6eb5",
   "metadata": {},
   "source": [
    "## Treinamento do Modelo\n",
    "\n",
    "#### O modelo abaixo foi feito no Databricks que dá suporte a arquivos Pickle nativamente. Nesse notebook ele não irá gerar o arquivo pkl. Por conta disso, fiz outro script em Python puro com Scikit-Learn para poder exportar o modelo pkl."
   ]
  },
  {
   "cell_type": "code",
   "execution_count": 27,
   "id": "969e7264-db92-4563-a706-9ebb37a10522",
   "metadata": {
    "tags": []
   },
   "outputs": [
    {
     "name": "stdout",
     "output_type": "stream",
     "text": [
      "AUC: 0.6456298974592598\n",
      "Accuracy: 0.6370583200880303\n"
     ]
    }
   ],
   "source": [
    "from pyspark.sql.types import StructType, StructField, StringType, IntegerType, DoubleType, TimestampType\n",
    "from pyspark.sql import SparkSession\n",
    "from pyspark.ml.feature import VectorAssembler, StringIndexer\n",
    "from pyspark.ml.classification import RandomForestClassifier\n",
    "from pyspark.ml.evaluation import BinaryClassificationEvaluator\n",
    "from pyspark.ml import Pipeline\n",
    "import pickle\n",
    "\n",
    "\n",
    "schema = StructType([\n",
    "    StructField(\"id\", IntegerType(), True),\n",
    "    StructField(\"year\", IntegerType(), True),\n",
    "    StructField(\"month\", IntegerType(), True),\n",
    "    StructField(\"day\", IntegerType(), True),\n",
    "    StructField(\"dep_time\", DoubleType(), True),\n",
    "    StructField(\"sched_dep_time\", IntegerType(), True),\n",
    "    StructField(\"dep_delay\", DoubleType(), True),\n",
    "    StructField(\"arr_time\", DoubleType(), True),\n",
    "    StructField(\"sched_arr_time\", IntegerType(), True),\n",
    "    StructField(\"arr_delay\", DoubleType(), True),\n",
    "    StructField(\"carrier\", StringType(), True),\n",
    "    StructField(\"flight\", IntegerType(), True),\n",
    "    StructField(\"tailnum\", StringType(), True),\n",
    "    StructField(\"origin\", StringType(), True),\n",
    "    StructField(\"dest\", StringType(), True),\n",
    "    StructField(\"air_time\", DoubleType(), True),\n",
    "    StructField(\"distance\", IntegerType(), True),\n",
    "    StructField(\"hour\", IntegerType(), True),\n",
    "    StructField(\"minute\", IntegerType(), True),\n",
    "    StructField(\"time_hour\", TimestampType(), True),\n",
    "    StructField(\"name\", StringType(), True),\n",
    "])\n",
    "\n",
    "# Lê o CSV com o schema definido\n",
    "df = spark.read.format(\"csv\") \\\n",
    "    .option(\"header\", \"true\") \\\n",
    "    .schema(schema) \\\n",
    "    .load(\"../data/airports-database.csv\")\n",
    "\n",
    "# Iniciar sessão Spark\n",
    "spark = SparkSession.builder.appName(\"FlightDelayPrediction\").getOrCreate()\n",
    "\n",
    "# Tratar valores nulos\n",
    "df = df.na.drop()\n",
    "\n",
    "# Criar coluna target (1 se houve atraso, 0 caso contrário)\n",
    "df = df.withColumn(\"delayed\", (df.arr_delay > 0).cast(\"integer\"))\n",
    "\n",
    "# Selecionar features relevantes\n",
    "features = [\"month\", \"day\", \"dep_time\", \"distance\", \"carrier\"]\n",
    "\n",
    "# Criar pipeline para pré-processamento\n",
    "indexers = [StringIndexer(inputCol=col, outputCol=col+\"_index\") for col in [\"carrier\"]]\n",
    "assembler = VectorAssembler(inputCols=[col+\"_index\" if col in [\"carrier\"] else col for col in features], outputCol=\"features\")\n",
    "\n",
    "# Criar e configurar o classificador\n",
    "rf = RandomForestClassifier(labelCol=\"delayed\", featuresCol=\"features\", numTrees=10)\n",
    "\n",
    "# Montar pipeline completa\n",
    "pipeline = Pipeline(stages=indexers + [assembler, rf])\n",
    "\n",
    "# Dividir dados em conjuntos de treino e teste\n",
    "train_data, test_data = df.randomSplit([0.8, 0.2], seed=42)\n",
    "\n",
    "# Treinar o modelo\n",
    "model = pipeline.fit(train_data)\n",
    "\n",
    "# Fazer previsões no conjunto de teste\n",
    "predictions = model.transform(test_data)\n",
    "\n",
    "# Avaliar o modelo\n",
    "evaluator = BinaryClassificationEvaluator(labelCol=\"delayed\")\n",
    "auc = evaluator.evaluate(predictions)\n",
    "print(f\"AUC: {auc}\")\n",
    "\n",
    "# Calcular acurácia\n",
    "accuracy = predictions.filter(predictions.delayed == predictions.prediction).count() / float(predictions.count())\n",
    "print(f\"Accuracy: {accuracy}\")\n",
    "\n",
    "# Salvar o modelo treinado # Não funciona sem ser no databricks, por isso está comentado\n",
    "# model_path = \"../models/flight_delay_model.pkl\"\n",
    "# with open(model_path, \"wb\") as f:\n",
    "#     pickle.dump(model, f)\n",
    "\n",
    "# print(f\"Modelo salvo em: {model_path}\")"
   ]
  },
  {
   "cell_type": "code",
   "execution_count": 28,
   "id": "13c23db4-4e43-40b6-af51-b513dd2eb528",
   "metadata": {
    "tags": []
   },
   "outputs": [
    {
     "name": "stdout",
     "output_type": "stream",
     "text": [
      "AUC: 0.7807576113737936\n",
      "Accuracy: 0.7270811058500076\n",
      "Modelo salvo em: ../models/flight_delay_model.pkl\n"
     ]
    }
   ],
   "source": [
    "import pandas as pd\n",
    "from sklearn.model_selection import train_test_split\n",
    "from sklearn.preprocessing import OneHotEncoder\n",
    "from sklearn.ensemble import RandomForestClassifier\n",
    "from sklearn.metrics import roc_auc_score, accuracy_score\n",
    "from sklearn.pipeline import Pipeline\n",
    "from sklearn.compose import ColumnTransformer\n",
    "from sklearn.impute import SimpleImputer\n",
    "import pickle\n",
    "\n",
    "# Ler o CSV\n",
    "df = pd.read_csv(\"../data/airports-database.csv\")\n",
    "\n",
    "# Tratar valores nulos\n",
    "df = df.dropna()\n",
    "\n",
    "# Criar coluna target (1 se houve atraso, 0 caso contrário)\n",
    "df['delayed'] = (df['arr_delay'] > 0).astype(int)\n",
    "\n",
    "# Selecionar features relevantes\n",
    "features = [\"month\", \"day\", \"dep_time\", \"distance\", \"carrier\"]\n",
    "\n",
    "# Preparar os dados\n",
    "X = df[features]\n",
    "y = df['delayed']\n",
    "\n",
    "# Dividir dados em conjuntos de treino e teste\n",
    "X_train, X_test, y_train, y_test = train_test_split(X, y, test_size=0.2, random_state=42)\n",
    "\n",
    "# Criar pipeline para pré-processamento\n",
    "numeric_features = [\"month\", \"day\", \"dep_time\", \"distance\"]\n",
    "categorical_features = [\"carrier\"]\n",
    "\n",
    "numeric_transformer = SimpleImputer(strategy='median')\n",
    "categorical_transformer = Pipeline(steps=[\n",
    "    ('imputer', SimpleImputer(strategy='constant', fill_value='missing')),\n",
    "    ('onehot', OneHotEncoder(handle_unknown='ignore')),\n",
    "])\n",
    "\n",
    "preprocessor = ColumnTransformer(\n",
    "    transformers=[\n",
    "        ('num', numeric_transformer, numeric_features),\n",
    "        ('cat', categorical_transformer, categorical_features),\n",
    "    ])\n",
    "\n",
    "# Criar e configurar o classificador\n",
    "rf = RandomForestClassifier(n_estimators=10, random_state=42)\n",
    "\n",
    "# Montar pipeline completa\n",
    "pipeline = Pipeline([\n",
    "    ('preprocessor', preprocessor),\n",
    "    ('classifier', rf)\n",
    "])\n",
    "\n",
    "# Treinar o modelo\n",
    "model = pipeline.fit(X_train, y_train)\n",
    "\n",
    "# Fazer previsões no conjunto de teste\n",
    "predictions = model.predict(X_test)\n",
    "probabilities = model.predict_proba(X_test)[:, 1]\n",
    "\n",
    "# Avaliar o modelo\n",
    "auc = roc_auc_score(y_test, probabilities)\n",
    "print(f\"AUC: {auc}\")\n",
    "\n",
    "# Calcular acurácia\n",
    "accuracy = accuracy_score(y_test, predictions)\n",
    "print(f\"Accuracy: {accuracy}\")\n",
    "\n",
    "# Salvar o modelo treinado\n",
    "model_path = \"../models/flight_delay_model.pkl\"\n",
    "with open(model_path, \"wb\") as f:\n",
    "    pickle.dump(model, f)\n",
    "\n",
    "print(f\"Modelo salvo em: {model_path}\")"
   ]
  },
  {
   "cell_type": "code",
   "execution_count": null,
   "id": "7f72f2de-b680-4a92-9671-d885eb368733",
   "metadata": {},
   "outputs": [],
   "source": []
  }
 ],
 "metadata": {
  "kernelspec": {
   "display_name": "Python 3 (ipykernel)",
   "language": "python",
   "name": "python3"
  },
  "language_info": {
   "codemirror_mode": {
    "name": "ipython",
    "version": 3
   },
   "file_extension": ".py",
   "mimetype": "text/x-python",
   "name": "python",
   "nbconvert_exporter": "python",
   "pygments_lexer": "ipython3",
   "version": "3.10.10"
  }
 },
 "nbformat": 4,
 "nbformat_minor": 5
}
